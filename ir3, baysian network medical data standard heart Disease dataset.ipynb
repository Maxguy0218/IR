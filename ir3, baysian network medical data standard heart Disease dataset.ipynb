{
 "cells": [
  {
   "cell_type": "code",
   "execution_count": 1,
   "id": "7f90f701",
   "metadata": {},
   "outputs": [
    {
     "name": "stderr",
     "output_type": "stream",
     "text": [
      "WARNING:pgmpy:BayesianModel has been renamed to BayesianNetwork. Please use BayesianNetwork class, BayesianModel will be removed in future.\n"
     ]
    },
    {
     "name": "stdout",
     "output_type": "stream",
     "text": [
      "Few examples from the dataset are given below\n",
      "   age  sex  cp  trestbps  chol  fbs  restecg  thalach  exang  oldpeak  slope  \\\n",
      "0   52    1   0       125   212    0        1      168      0      1.0      2   \n",
      "1   53    1   0       140   203    1        0      155      1      3.1      0   \n",
      "2   70    1   0       145   174    0        1      125      1      2.6      0   \n",
      "3   61    1   0       148   203    0        1      161      0      0.0      2   \n",
      "4   62    0   0       138   294    1        1      106      0      1.9      1   \n",
      "\n",
      "   ca  thal  target  \n",
      "0   2     3       0  \n",
      "1   0     3       0  \n",
      "2   0     3       0  \n",
      "3   1     3       0  \n",
      "4   3     2       0  \n",
      "\n",
      " Learning CPD using Maximum likelihood estimators\n"
     ]
    },
    {
     "name": "stderr",
     "output_type": "stream",
     "text": [
      "WARNING:pgmpy:BayesianModel has been renamed to BayesianNetwork. Please use BayesianNetwork class, BayesianModel will be removed in future.\n",
      "WARNING:pgmpy:BayesianModel has been renamed to BayesianNetwork. Please use BayesianNetwork class, BayesianModel will be removed in future.\n",
      "WARNING:pgmpy:BayesianModel has been renamed to BayesianNetwork. Please use BayesianNetwork class, BayesianModel will be removed in future.\n",
      "WARNING:pgmpy:BayesianModel has been renamed to BayesianNetwork. Please use BayesianNetwork class, BayesianModel will be removed in future.\n"
     ]
    },
    {
     "name": "stdout",
     "output_type": "stream",
     "text": [
      "\n",
      " Inferencing with Bayesian Network\n",
      "\n",
      " 1. Probability of HeartDisease given Age=70\n",
      "+-----------+---------------+\n",
      "| target    |   phi(target) |\n",
      "+===========+===============+\n",
      "| target(0) |        0.4227 |\n",
      "+-----------+---------------+\n",
      "| target(1) |        0.5773 |\n",
      "+-----------+---------------+\n",
      "\n",
      " 2. Probability of HeartDisease given cholesterol-174\n",
      "+-----------+---------------+\n",
      "| target    |   phi(target) |\n",
      "+===========+===============+\n",
      "| target(0) |        1.0000 |\n",
      "+-----------+---------------+\n",
      "| target(1) |        0.0000 |\n",
      "+-----------+---------------+\n"
     ]
    }
   ],
   "source": [
    "import numpy as np\n",
    "import pandas as pd\n",
    "import csv \n",
    "from pgmpy.models import BayesianModel\n",
    "from pgmpy.estimators import MaximumLikelihoodEstimator\n",
    "from pgmpy.inference import VariableElimination\n",
    "\n",
    "heartDisease = pd.read_csv('heart.csv')\n",
    "heartDisease = heartDisease.replace('?', np.nan)\n",
    "print('Few examples from the dataset are given below')\n",
    "print (heartDisease.head())\n",
    "model=BayesianModel ([('age', 'trestbps'), ('age', 'fbs'), ('sex', 'trestbps'), ('exang', 'trestbps'), ('trestbps', 'target'), ('fbs', 'target'), ('target', 'restecg'), ('target', 'thalach'), ('target', 'chol')])\n",
    "\n",
    "print('\\n Learning CPD using Maximum likelihood estimators')\n",
    "model.fit(heartDisease, estimator = MaximumLikelihoodEstimator)\n",
    "print(\"\\n Inferencing with Bayesian Network\")\n",
    "HeartDisease_infer = VariableElimination (model)\n",
    "print('\\n 1. Probability of HeartDisease given Age=70')\n",
    "q1=HeartDisease_infer.query(variables=['target'], evidence = {'age' :70})\n",
    "print(q1)\n",
    "print('\\n 2. Probability of HeartDisease given cholesterol-174')\n",
    "q2=HeartDisease_infer.query(variables=['target'],evidence={'chol':174})\n",
    "print (q2)"
   ]
  },
  {
   "cell_type": "code",
   "execution_count": null,
   "id": "a19dd47b",
   "metadata": {},
   "outputs": [],
   "source": []
  },
  {
   "cell_type": "code",
   "execution_count": null,
   "id": "569a1a51",
   "metadata": {},
   "outputs": [],
   "source": []
  }
 ],
 "metadata": {
  "kernelspec": {
   "display_name": "Python 3 (ipykernel)",
   "language": "python",
   "name": "python3"
  },
  "language_info": {
   "codemirror_mode": {
    "name": "ipython",
    "version": 3
   },
   "file_extension": ".py",
   "mimetype": "text/x-python",
   "name": "python",
   "nbconvert_exporter": "python",
   "pygments_lexer": "ipython3",
   "version": "3.9.13"
  }
 },
 "nbformat": 4,
 "nbformat_minor": 5
}
